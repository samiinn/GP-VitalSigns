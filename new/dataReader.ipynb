{
 "cells": [
  {
   "cell_type": "code",
   "execution_count": 3,
   "metadata": {},
   "outputs": [],
   "source": [
    "import pandas as pd"
   ]
  },
  {
   "cell_type": "code",
   "execution_count": 4,
   "metadata": {},
   "outputs": [
    {
     "name": "stdout",
     "output_type": "stream",
     "text": [
      "/usr/bin/python3\n"
     ]
    }
   ],
   "source": [
    "import sys\n",
    "print(sys.executable)"
   ]
  },
  {
   "cell_type": "code",
   "execution_count": 31,
   "metadata": {},
   "outputs": [],
   "source": [
    "import csv\n",
    " \n",
    "data = []\n",
    "# opening the CSV file\n",
    "with open('uq_vsd_case01_trenddata.csv', mode ='r') as file:   \n",
    "        \n",
    "       # reading the CSV file\n",
    "       csvFile = csv.DictReader(file)\n",
    " \n",
    "       # displaying the contents of the CSV file\n",
    "       count = 0\n",
    "       for lines in csvFile:\n",
    "            count += 1\n",
    "            lines.pop(None, None)\n",
    "            #print(lines)\n",
    "            data.append(lines)\n",
    "\n",
    "keys = list(data[0].keys())\n",
    "\n",
    "with open('case01_clean.csv', 'w') as csvfile:\n",
    "    writer = csv.DictWriter(csvfile, fieldnames = keys)\n",
    "    writer.writeheader()\n",
    "    writer.writerows(data)"
   ]
  },
  {
   "cell_type": "code",
   "execution_count": 33,
   "metadata": {},
   "outputs": [
    {
     "data": {
      "text/html": [
       "<style>.container { width:100% !important; }</style>"
      ],
      "text/plain": [
       "<IPython.core.display.HTML object>"
      ]
     },
     "metadata": {},
     "output_type": "display_data"
    },
    {
     "name": "stdout",
     "output_type": "stream",
     "text": [
      "              Time  RelativeTimeMilliseconds  Clock    HR  ST-II  Pulse  \\\n",
      "0     00:00:00_000                         0  17:33  55.0    NaN   55.0   \n",
      "1     00:00:01_000                      1000  17:33  55.0    NaN   55.0   \n",
      "2     00:00:02_000                      2000  17:33  55.0    NaN   54.0   \n",
      "3     00:00:03_000                      3000  17:33  55.0    NaN   54.0   \n",
      "4     00:00:04_000                      4000  17:33  55.0    NaN   49.0   \n",
      "...            ...                       ...    ...   ...    ...    ...   \n",
      "7291  02:01:31_000                   7291000  19:34   NaN    NaN   51.0   \n",
      "7292  02:01:32_000                   7292000  19:34   NaN    NaN   51.0   \n",
      "7293  02:01:33_000                   7293000  19:34   NaN    NaN   51.0   \n",
      "7294  02:01:34_000                   7294000  19:34   NaN    NaN   51.0   \n",
      "7295  02:01:35_000                   7295000  19:35   NaN    NaN   51.0   \n",
      "\n",
      "       SpO2  Perf  etCO2  imCO2  ...  Tidal Volume Exp (Spiro)  \\\n",
      "0     100.0   0.4      0      0  ...                       NaN   \n",
      "1     100.0   0.4      0      0  ...                       NaN   \n",
      "2     100.0   0.4      0      0  ...                       NaN   \n",
      "3     100.0   0.3      0      0  ...                       NaN   \n",
      "4     100.0   0.3      0      0  ...                       NaN   \n",
      "...     ...   ...    ...    ...  ...                       ...   \n",
      "7291   98.0   1.2     38      1  ...                       NaN   \n",
      "7292   98.0   1.2     38      1  ...                       NaN   \n",
      "7293   98.0   1.2     38      1  ...                       NaN   \n",
      "7294   98.0   1.2     38      1  ...                       NaN   \n",
      "7295   98.0   1.2     38      1  ...                       NaN   \n",
      "\n",
      "      Tidal Volume In (Spiro)  Minute Volume Exp (Spiro)  \\\n",
      "0                         NaN                        NaN   \n",
      "1                         NaN                        NaN   \n",
      "2                         NaN                        NaN   \n",
      "3                         NaN                        NaN   \n",
      "4                         NaN                        NaN   \n",
      "...                       ...                        ...   \n",
      "7291                      NaN                        NaN   \n",
      "7292                      NaN                        NaN   \n",
      "7293                      NaN                        NaN   \n",
      "7294                      NaN                        NaN   \n",
      "7295                      NaN                        NaN   \n",
      "\n",
      "      Minute Volume In (Spiro)  Lung Compliance (Spiro)  \\\n",
      "0                          NaN                      NaN   \n",
      "1                          NaN                      NaN   \n",
      "2                          NaN                      NaN   \n",
      "3                          NaN                      NaN   \n",
      "4                          NaN                      NaN   \n",
      "...                        ...                      ...   \n",
      "7291                       NaN                      NaN   \n",
      "7292                       NaN                      NaN   \n",
      "7293                       NaN                      NaN   \n",
      "7294                       NaN                      NaN   \n",
      "7295                       NaN                      NaN   \n",
      "\n",
      "      Airway Resistance (Spiro)  Max Inspiratory Pressure (Spiro)  \\\n",
      "0                           NaN                               NaN   \n",
      "1                           NaN                               NaN   \n",
      "2                           NaN                               NaN   \n",
      "3                           NaN                               NaN   \n",
      "4                           NaN                               NaN   \n",
      "...                         ...                               ...   \n",
      "7291                        NaN                               NaN   \n",
      "7292                        NaN                               NaN   \n",
      "7293                        NaN                               NaN   \n",
      "7294                        NaN                               NaN   \n",
      "7295                        NaN                               NaN   \n",
      "\n",
      "      Num Patient Alarms  Num Technical Alarms           Alarms...  \n",
      "0                      0                     1  AGM ZERO RUNNING    \n",
      "1                      0                     1  AGM ZERO RUNNING    \n",
      "2                      0                     1  AGM ZERO RUNNING    \n",
      "3                      0                     1  AGM ZERO RUNNING    \n",
      "4                      0                     1  AGM ZERO RUNNING    \n",
      "...                  ...                   ...                 ...  \n",
      "7291                   0                     1  ECG    LEADS OFF    \n",
      "7292                   0                     1  ECG    LEADS OFF    \n",
      "7293                   0                     1  ECG    LEADS OFF    \n",
      "7294                   0                     1  ECG    LEADS OFF    \n",
      "7295                   0                     1  ECG    LEADS OFF    \n",
      "\n",
      "[7296 rows x 54 columns]\n"
     ]
    }
   ],
   "source": [
    "import pandas as pd\n",
    "\n",
    "\n",
    "df = pd.read_csv(\"case01_clean.csv\", index_col=False)\n",
    "print(df)"
   ]
  },
  {
   "cell_type": "code",
   "execution_count": null,
   "metadata": {},
   "outputs": [],
   "source": []
  }
 ],
 "metadata": {
  "interpreter": {
   "hash": "31f2aee4e71d21fbe5cf8b01ff0e069b9275f58929596ceb00d14d90e3e16cd6"
  },
  "kernelspec": {
   "display_name": "Python 3.8.10 64-bit",
   "name": "python3"
  },
  "language_info": {
   "codemirror_mode": {
    "name": "ipython",
    "version": 3
   },
   "file_extension": ".py",
   "mimetype": "text/x-python",
   "name": "python",
   "nbconvert_exporter": "python",
   "pygments_lexer": "ipython3",
   "version": "3.8.10"
  },
  "orig_nbformat": 4
 },
 "nbformat": 4,
 "nbformat_minor": 2
}