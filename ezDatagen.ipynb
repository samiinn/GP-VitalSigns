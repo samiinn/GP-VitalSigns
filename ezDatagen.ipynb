{
 "metadata": {
  "language_info": {
   "codemirror_mode": {
    "name": "ipython",
    "version": 3
   },
   "file_extension": ".py",
   "mimetype": "text/x-python",
   "name": "python",
   "nbconvert_exporter": "python",
   "pygments_lexer": "ipython3",
   "version": "3.9.1-final"
  },
  "orig_nbformat": 2,
  "kernelspec": {
   "name": "azproject",
   "display_name": "AZproject"
  }
 },
 "nbformat": 4,
 "nbformat_minor": 2,
 "cells": [
  {
   "cell_type": "code",
   "execution_count": 5,
   "metadata": {},
   "outputs": [],
   "source": [
    "import pandas as pd \n",
    "import os\n",
    "import numpy as np\n",
    "import datetime\n",
    "import numpy as np\n",
    "import matplotlib.pyplot as plt\n",
    "import wfdb\n",
    "from wfdb import processing\n",
    "import sklearn.gaussian_process as gp\n",
    "import time\n",
    "import gpflow\n",
    "import tensorflow as tf\n",
    "import csv\n",
    "import sys\n",
    "import GPy\n",
    "import gpflow\n",
    "from mpl_toolkits.mplot3d import Axes3D\n",
    "from sklearn.model_selection import train_test_split"
   ]
  },
  {
   "cell_type": "code",
   "execution_count": 7,
   "metadata": {},
   "outputs": [
    {
     "output_type": "stream",
     "name": "stderr",
     "text": [
      "b'Skipping line 507: expected 55 fields, saw 56\\nSkipping line 508: expected 55 fields, saw 56\\nSkipping line 509: expected 55 fields, saw 56\\nSkipping line 510: expected 55 fields, saw 56\\nSkipping line 511: expected 55 fields, saw 56\\nSkipping line 512: expected 55 fields, saw 56\\nSkipping line 513: expected 55 fields, saw 56\\nSkipping line 514: expected 55 fields, saw 56\\nSkipping line 515: expected 55 fields, saw 56\\nSkipping line 516: expected 55 fields, saw 56\\nSkipping line 517: expected 55 fields, saw 56\\nSkipping line 518: expected 55 fields, saw 56\\nSkipping line 519: expected 55 fields, saw 56\\nSkipping line 520: expected 55 fields, saw 56\\nSkipping line 521: expected 55 fields, saw 56\\nSkipping line 522: expected 55 fields, saw 56\\nSkipping line 523: expected 55 fields, saw 56\\nSkipping line 524: expected 55 fields, saw 56\\nSkipping line 525: expected 55 fields, saw 56\\nSkipping line 526: expected 55 fields, saw 56\\nSkipping line 527: expected 55 fields, saw 56\\nSkipping line 528: expected 55 fields, saw 56\\nSkipping line 529: expected 55 fields, saw 56\\nSkipping line 530: expected 55 fields, saw 56\\nSkipping line 531: expected 55 fields, saw 56\\nSkipping line 532: expected 55 fields, saw 56\\nSkipping line 533: expected 55 fields, saw 56\\nSkipping line 534: expected 55 fields, saw 56\\nSkipping line 535: expected 55 fields, saw 56\\nSkipping line 536: expected 55 fields, saw 56\\nSkipping line 537: expected 55 fields, saw 56\\nSkipping line 538: expected 55 fields, saw 56\\nSkipping line 539: expected 55 fields, saw 56\\nSkipping line 540: expected 55 fields, saw 56\\nSkipping line 541: expected 55 fields, saw 56\\nSkipping line 542: expected 55 fields, saw 56\\nSkipping line 543: expected 55 fields, saw 56\\nSkipping line 544: expected 55 fields, saw 56\\nSkipping line 545: expected 55 fields, saw 56\\nSkipping line 546: expected 55 fields, saw 56\\nSkipping line 547: expected 55 fields, saw 56\\nSkipping line 548: expected 55 fields, saw 56\\nSkipping line 549: expected 55 fields, saw 56\\nSkipping line 550: expected 55 fields, saw 56\\nSkipping line 551: expected 55 fields, saw 56\\nSkipping line 552: expected 55 fields, saw 56\\nSkipping line 553: expected 55 fields, saw 56\\nSkipping line 554: expected 55 fields, saw 56\\nSkipping line 555: expected 55 fields, saw 56\\nSkipping line 556: expected 55 fields, saw 56\\nSkipping line 557: expected 55 fields, saw 56\\nSkipping line 558: expected 55 fields, saw 56\\nSkipping line 559: expected 55 fields, saw 56\\nSkipping line 560: expected 55 fields, saw 56\\nSkipping line 561: expected 55 fields, saw 56\\nSkipping line 562: expected 55 fields, saw 56\\nSkipping line 563: expected 55 fields, saw 56\\nSkipping line 564: expected 55 fields, saw 56\\nSkipping line 565: expected 55 fields, saw 56\\nSkipping line 566: expected 55 fields, saw 56\\nSkipping line 567: expected 55 fields, saw 56\\nSkipping line 568: expected 55 fields, saw 56\\nSkipping line 569: expected 55 fields, saw 56\\nSkipping line 570: expected 55 fields, saw 56\\nSkipping line 571: expected 55 fields, saw 56\\nSkipping line 572: expected 55 fields, saw 56\\nSkipping line 573: expected 55 fields, saw 56\\nSkipping line 574: expected 55 fields, saw 56\\nSkipping line 575: expected 55 fields, saw 56\\nSkipping line 576: expected 55 fields, saw 56\\nSkipping line 577: expected 55 fields, saw 56\\nSkipping line 578: expected 55 fields, saw 56\\nSkipping line 579: expected 55 fields, saw 56\\nSkipping line 580: expected 55 fields, saw 56\\nSkipping line 581: expected 55 fields, saw 56\\nSkipping line 582: expected 55 fields, saw 56\\nSkipping line 583: expected 55 fields, saw 56\\nSkipping line 584: expected 55 fields, saw 56\\nSkipping line 585: expected 55 fields, saw 56\\nSkipping line 586: expected 55 fields, saw 56\\nSkipping line 587: expected 55 fields, saw 56\\nSkipping line 588: expected 55 fields, saw 56\\nSkipping line 589: expected 55 fields, saw 56\\nSkipping line 590: expected 55 fields, saw 56\\nSkipping line 591: expected 55 fields, saw 56\\nSkipping line 592: expected 55 fields, saw 56\\nSkipping line 593: expected 55 fields, saw 56\\nSkipping line 594: expected 55 fields, saw 56\\nSkipping line 595: expected 55 fields, saw 56\\nSkipping line 596: expected 55 fields, saw 56\\nSkipping line 597: expected 55 fields, saw 56\\nSkipping line 598: expected 55 fields, saw 56\\nSkipping line 599: expected 55 fields, saw 56\\nSkipping line 600: expected 55 fields, saw 56\\nSkipping line 601: expected 55 fields, saw 56\\nSkipping line 602: expected 55 fields, saw 56\\nSkipping line 603: expected 55 fields, saw 56\\nSkipping line 604: expected 55 fields, saw 56\\nSkipping line 605: expected 55 fields, saw 56\\nSkipping line 606: expected 55 fields, saw 56\\nSkipping line 607: expected 55 fields, saw 56\\nSkipping line 608: expected 55 fields, saw 56\\nSkipping line 609: expected 55 fields, saw 56\\nSkipping line 610: expected 55 fields, saw 56\\nSkipping line 611: expected 55 fields, saw 56\\nSkipping line 612: expected 55 fields, saw 56\\nSkipping line 613: expected 55 fields, saw 56\\nSkipping line 614: expected 55 fields, saw 56\\nSkipping line 615: expected 55 fields, saw 56\\nSkipping line 616: expected 55 fields, saw 56\\nSkipping line 617: expected 55 fields, saw 56\\nSkipping line 618: expected 55 fields, saw 56\\nSkipping line 619: expected 55 fields, saw 56\\nSkipping line 620: expected 55 fields, saw 56\\nSkipping line 621: expected 55 fields, saw 56\\nSkipping line 622: expected 55 fields, saw 56\\nSkipping line 623: expected 55 fields, saw 56\\nSkipping line 624: expected 55 fields, saw 56\\nSkipping line 625: expected 55 fields, saw 56\\nSkipping line 626: expected 55 fields, saw 56\\nSkipping line 627: expected 55 fields, saw 56\\nSkipping line 628: expected 55 fields, saw 56\\nSkipping line 629: expected 55 fields, saw 56\\nSkipping line 630: expected 55 fields, saw 56\\nSkipping line 631: expected 55 fields, saw 56\\nSkipping line 632: expected 55 fields, saw 56\\nSkipping line 633: expected 55 fields, saw 56\\nSkipping line 634: expected 55 fields, saw 56\\nSkipping line 893: expected 55 fields, saw 56\\nSkipping line 894: expected 55 fields, saw 56\\nSkipping line 895: expected 55 fields, saw 56\\nSkipping line 896: expected 55 fields, saw 56\\nSkipping line 897: expected 55 fields, saw 56\\nSkipping line 898: expected 55 fields, saw 56\\nSkipping line 899: expected 55 fields, saw 56\\nSkipping line 900: expected 55 fields, saw 56\\nSkipping line 901: expected 55 fields, saw 56\\nSkipping line 902: expected 55 fields, saw 56\\nSkipping line 903: expected 55 fields, saw 56\\nSkipping line 904: expected 55 fields, saw 56\\nSkipping line 905: expected 55 fields, saw 56\\nSkipping line 906: expected 55 fields, saw 56\\nSkipping line 907: expected 55 fields, saw 56\\nSkipping line 908: expected 55 fields, saw 56\\nSkipping line 909: expected 55 fields, saw 56\\nSkipping line 910: expected 55 fields, saw 56\\nSkipping line 911: expected 55 fields, saw 56\\nSkipping line 912: expected 55 fields, saw 56\\nSkipping line 913: expected 55 fields, saw 56\\nSkipping line 914: expected 55 fields, saw 56\\nSkipping line 915: expected 55 fields, saw 56\\nSkipping line 916: expected 55 fields, saw 56\\nSkipping line 917: expected 55 fields, saw 56\\nSkipping line 918: expected 55 fields, saw 56\\nSkipping line 919: expected 55 fields, saw 56\\nSkipping line 920: expected 55 fields, saw 56\\nSkipping line 921: expected 55 fields, saw 56\\nSkipping line 922: expected 55 fields, saw 56\\nSkipping line 923: expected 55 fields, saw 56\\nSkipping line 924: expected 55 fields, saw 56\\nSkipping line 925: expected 55 fields, saw 56\\nSkipping line 926: expected 55 fields, saw 56\\nSkipping line 927: expected 55 fields, saw 56\\nSkipping line 928: expected 55 fields, saw 56\\nSkipping line 929: expected 55 fields, saw 56\\nSkipping line 930: expected 55 fields, saw 56\\nSkipping line 931: expected 55 fields, saw 56\\nSkipping line 932: expected 55 fields, saw 56\\nSkipping line 933: expected 55 fields, saw 56\\nSkipping line 934: expected 55 fields, saw 56\\nSkipping line 935: expected 55 fields, saw 56\\nSkipping line 936: expected 55 fields, saw 56\\nSkipping line 937: expected 55 fields, saw 56\\nSkipping line 938: expected 55 fields, saw 56\\nSkipping line 939: expected 55 fields, saw 56\\nSkipping line 940: expected 55 fields, saw 56\\nSkipping line 941: expected 55 fields, saw 56\\nSkipping line 942: expected 55 fields, saw 56\\nSkipping line 943: expected 55 fields, saw 56\\nSkipping line 944: expected 55 fields, saw 56\\nSkipping line 945: expected 55 fields, saw 56\\nSkipping line 946: expected 55 fields, saw 56\\nSkipping line 947: expected 55 fields, saw 56\\nSkipping line 948: expected 55 fields, saw 56\\nSkipping line 949: expected 55 fields, saw 56\\nSkipping line 950: expected 55 fields, saw 56\\nSkipping line 951: expected 55 fields, saw 56\\nSkipping line 952: expected 55 fields, saw 56\\nSkipping line 953: expected 55 fields, saw 56\\nSkipping line 954: expected 55 fields, saw 56\\nSkipping line 955: expected 55 fields, saw 56\\nSkipping line 956: expected 55 fields, saw 56\\nSkipping line 957: expected 55 fields, saw 56\\nSkipping line 958: expected 55 fields, saw 56\\nSkipping line 959: expected 55 fields, saw 56\\nSkipping line 960: expected 55 fields, saw 56\\nSkipping line 961: expected 55 fields, saw 56\\nSkipping line 962: expected 55 fields, saw 56\\nSkipping line 963: expected 55 fields, saw 56\\nSkipping line 964: expected 55 fields, saw 56\\nSkipping line 965: expected 55 fields, saw 56\\nSkipping line 966: expected 55 fields, saw 56\\nSkipping line 967: expected 55 fields, saw 56\\nSkipping line 968: expected 55 fields, saw 56\\nSkipping line 969: expected 55 fields, saw 56\\nSkipping line 970: expected 55 fields, saw 56\\nSkipping line 971: expected 55 fields, saw 56\\nSkipping line 972: expected 55 fields, saw 56\\nSkipping line 973: expected 55 fields, saw 56\\nSkipping line 974: expected 55 fields, saw 56\\nSkipping line 975: expected 55 fields, saw 56\\nSkipping line 976: expected 55 fields, saw 56\\nSkipping line 977: expected 55 fields, saw 56\\nSkipping line 978: expected 55 fields, saw 56\\nSkipping line 979: expected 55 fields, saw 56\\nSkipping line 980: expected 55 fields, saw 56\\nSkipping line 981: expected 55 fields, saw 56\\nSkipping line 982: expected 55 fields, saw 56\\nSkipping line 983: expected 55 fields, saw 56\\nSkipping line 984: expected 55 fields, saw 56\\nSkipping line 985: expected 55 fields, saw 56\\nSkipping line 986: expected 55 fields, saw 56\\nSkipping line 987: expected 55 fields, saw 56\\nSkipping line 988: expected 55 fields, saw 56\\nSkipping line 989: expected 55 fields, saw 56\\nSkipping line 990: expected 55 fields, saw 56\\nSkipping line 991: expected 55 fields, saw 56\\nSkipping line 992: expected 55 fields, saw 56\\nSkipping line 993: expected 55 fields, saw 56\\nSkipping line 994: expected 55 fields, saw 56\\nSkipping line 995: expected 55 fields, saw 56\\nSkipping line 996: expected 55 fields, saw 56\\nSkipping line 997: expected 55 fields, saw 56\\nSkipping line 998: expected 55 fields, saw 56\\nSkipping line 999: expected 55 fields, saw 56\\nSkipping line 1000: expected 55 fields, saw 56\\nSkipping line 1001: expected 55 fields, saw 56\\nSkipping line 1002: expected 55 fields, saw 56\\nSkipping line 1003: expected 55 fields, saw 56\\nSkipping line 1004: expected 55 fields, saw 56\\nSkipping line 1005: expected 55 fields, saw 56\\nSkipping line 1006: expected 55 fields, saw 56\\nSkipping line 1007: expected 55 fields, saw 56\\nSkipping line 1008: expected 55 fields, saw 56\\nSkipping line 1009: expected 55 fields, saw 56\\nSkipping line 1010: expected 55 fields, saw 56\\nSkipping line 1011: expected 55 fields, saw 56\\nSkipping line 1012: expected 55 fields, saw 56\\nSkipping line 1013: expected 55 fields, saw 56\\nSkipping line 1014: expected 55 fields, saw 56\\nSkipping line 1015: expected 55 fields, saw 56\\n'\n"
     ]
    }
   ],
   "source": [
    "df = pd.read_csv ('uqvitalsignsdata/case02/uq_vsd_case02_trenddata.csv', error_bad_lines=False, index_col = False )"
   ]
  },
  {
   "cell_type": "code",
   "execution_count": null,
   "metadata": {},
   "outputs": [],
   "source": [
    "train, test = train_test_split(df, test_size=0.5)\n",
    "\n",
    "testTrain = train.loc[:,['RelativeTimeMilliseconds', 'Pulse', 'Tidal Volume', 'SpO2', 'HR', 'RR']]\n",
    "\n",
    "testTrain.sort_index(axis = 0, inplace = True)"
   ]
  }
 ]
}